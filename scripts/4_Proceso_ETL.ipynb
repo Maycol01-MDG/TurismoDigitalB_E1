{
 "cells": [
  {
   "cell_type": "code",
   "execution_count": 1,
   "id": "62ab3b87",
   "metadata": {},
   "outputs": [
    {
     "name": "stdout",
     "output_type": "stream",
     "text": [
      "🔍 Registros iniciales: 3000\n",
      "✅ Datos limpios guardados en: c:\\Users\\mmond\\documents\\TurismoDigitalB_E1\\data\\visitantes_clean.csv\n",
      "📊 Registros finales: 3000\n"
     ]
    }
   ],
   "source": [
    "import pandas as pd\n",
    "from pathlib import Path\n",
    "\n",
    "def main():\n",
    "    root = Path.cwd().parent\n",
    "    data_path = root / \"data\"\n",
    "\n",
    "    df = pd.read_csv(data_path / \"visitantes.csv\")\n",
    "\n",
    "    print(\"🔍 Registros iniciales:\", len(df))\n",
    "\n",
    "    # Eliminar duplicados\n",
    "    df = df.drop_duplicates()\n",
    "\n",
    "    # Rellenar valores nulos\n",
    "    df[\"medio_transporte\"] = df[\"medio_transporte\"].fillna(\"Desconocido\").replace(\"NA\", \"Desconocido\")\n",
    "    df[\"destino\"] = df[\"destino\"].fillna(\"Sin especificar\")\n",
    "\n",
    "    # Formatear fechas\n",
    "    df[\"fecha_visita\"] = pd.to_datetime(df[\"fecha_visita\"], errors=\"coerce\")\n",
    "\n",
    "    # Validar tipos\n",
    "    df[\"edad\"] = df[\"edad\"].astype(int)\n",
    "    df[\"dias_estadia\"] = df[\"dias_estadia\"].astype(int)\n",
    "    df[\"gasto_total\"] = df[\"gasto_total\"].astype(float)\n",
    "\n",
    "    # Guardar limpio\n",
    "    clean_csv = data_path / \"visitantes_clean.csv\"\n",
    "    df.to_csv(clean_csv, index=False)\n",
    "\n",
    "    print(f\"✅ Datos limpios guardados en: {clean_csv}\")\n",
    "    print(\"📊 Registros finales:\", len(df))\n",
    "\n",
    "if __name__ == \"__main__\":\n",
    "    main()\n"
   ]
  }
 ],
 "metadata": {
  "kernelspec": {
   "display_name": "myenv",
   "language": "python",
   "name": "python3"
  },
  "language_info": {
   "codemirror_mode": {
    "name": "ipython",
    "version": 3
   },
   "file_extension": ".py",
   "mimetype": "text/x-python",
   "name": "python",
   "nbconvert_exporter": "python",
   "pygments_lexer": "ipython3",
   "version": "3.13.7"
  }
 },
 "nbformat": 4,
 "nbformat_minor": 5
}
