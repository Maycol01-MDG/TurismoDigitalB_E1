{
 "cells": [
  {
   "cell_type": "code",
   "execution_count": 1,
   "id": "471ca505",
   "metadata": {},
   "outputs": [
    {
     "name": "stdout",
     "output_type": "stream",
     "text": [
      "✅ 3000 registros insertados en MongoDB.\n"
     ]
    }
   ],
   "source": [
    "from pymongo import MongoClient\n",
    "import pandas as pd\n",
    "from pathlib import Path\n",
    "\n",
    "def main():\n",
    "    root = Path.cwd().parent\n",
    "    data_path = root / \"data\"\n",
    "    df = pd.read_csv(data_path / \"visitantes_clean.csv\")\n",
    "\n",
    "    client = MongoClient(\"mongodb://localhost:27017/\")\n",
    "    db = client[\"TurismoPeru_2025\"]\n",
    "    coleccion = db[\"Visitantes\"]\n",
    "\n",
    "    # Insertar registros\n",
    "    coleccion.delete_many({})  # limpiar colección\n",
    "    coleccion.insert_many(df.to_dict(\"records\"))\n",
    "\n",
    "    print(f\"✅ {coleccion.count_documents({})} registros insertados en MongoDB.\")\n",
    "\n",
    "if __name__ == \"__main__\":\n",
    "    main()\n"
   ]
  }
 ],
 "metadata": {
  "kernelspec": {
   "display_name": "myenv",
   "language": "python",
   "name": "python3"
  },
  "language_info": {
   "codemirror_mode": {
    "name": "ipython",
    "version": 3
   },
   "file_extension": ".py",
   "mimetype": "text/x-python",
   "name": "python",
   "nbconvert_exporter": "python",
   "pygments_lexer": "ipython3",
   "version": "3.13.7"
  }
 },
 "nbformat": 4,
 "nbformat_minor": 5
}
